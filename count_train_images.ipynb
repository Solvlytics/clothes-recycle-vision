{
  "nbformat": 4,
  "nbformat_minor": 0,
  "metadata": {
    "colab": {
      "provenance": []
    },
    "kernelspec": {
      "name": "python3",
      "display_name": "Python 3"
    },
    "language_info": {
      "name": "python"
    }
  },
  "cells": [
    {
      "cell_type": "code",
      "execution_count": null,
      "metadata": {
        "id": "v4PvW10rUUO9"
      },
      "outputs": [],
      "source": [
        "# 데이터 로드 (GCS)\n",
        "from google.colab import files\n",
        "uploaded = files.upload()"
      ]
    },
    {
      "cell_type": "code",
      "source": [
        "# 환경변수 지정\n",
        "import os\n",
        "service_account_json = list(uploaded.keys())[0]\n",
        "os.environ[\"GOOGLE_APPLICATION_CREDENTIALS\"] = service_account_json\n",
        "\n",
        "# gcloud 인증 (gsutil도 이 인증을 사용)\n",
        "!gcloud auth activate-service-account --key-file=\"$GOOGLE_APPLICATION_CREDENTIALS\""
      ],
      "metadata": {
        "id": "ptA5G5g3UcTG"
      },
      "execution_count": null,
      "outputs": []
    },
    {
      "cell_type": "code",
      "source": [
        "from google.cloud import storage\n",
        "\n",
        "# 클라이언트 생성 (인증은 이미 완료되었다고 가정)\n",
        "client = storage.Client()\n",
        "\n",
        "# 경로 리스트\n",
        "prefixes = [\n",
        "    \"Training/01.원천데이터/TS_task1_yolo_dispose_BLOUSE_unzipped/TS_task1_yolo_dispose_BLOUSE_unzipped\",\n",
        "    \"Training/01.원천데이터/TS_task1_yolo_dispose_SHIRTS_unzipped/TS_task1_yolo_dispose_SHIRTS_unzipped\",\n",
        "    \"Training/01.원천데이터/TS_task1_yolo_recycle_BLOUSE_unzipped/TS_task1_yolo_recycle_BLOUSE_unzipped\",\n",
        "    \"Training/01.원천데이터/TS_task1_yolo_recycle_SHIRTS_unzipped/TS_task1_yolo_recycle_SHIRTS_unzipped\",\n",
        "    \"Training/01.원천데이터/TS_task1_yolo_reusable_BLOUSE_unzipped/TS_task1_yolo_reusable_BLOUSE_unzipped\",\n",
        "    \"Training/01.원천데이터/TS_task1_yolo_reusable_SHIRTS_unzipped/TS_task1_yolo_reusable_SHIRTS_unzipped\"\n",
        "]\n",
        "\n",
        "bucket_name = \"deeplearn-bucket-1\"\n",
        "\n",
        "# 결과 저장\n",
        "results = []\n",
        "\n",
        "for prefix in prefixes:\n",
        "    jpg_count = 0\n",
        "    png_count = 0\n",
        "\n",
        "    blobs = client.list_blobs(bucket_name, prefix=prefix)\n",
        "\n",
        "    for blob in blobs:\n",
        "        if blob.name.endswith(\".jpg\"):\n",
        "            jpg_count += 1\n",
        "        elif blob.name.endswith(\".png\"):\n",
        "            png_count += 1\n",
        "\n",
        "    total = jpg_count + png_count\n",
        "    results.append({\n",
        "        \"prefix\": prefix,\n",
        "        \"total\": total,\n",
        "        \"jpg\": jpg_count,\n",
        "        \"png\": png_count\n",
        "    })\n",
        "\n",
        "# 결과 출력\n",
        "for i, res in enumerate(results, 1):\n",
        "    print(f\"[{i}] {res['prefix']}\")\n",
        "    print(f\"   총 이미지 개수: {res['total']} (jpg: {res['jpg']}, png: {res['png']})\\n\")"
      ],
      "metadata": {
        "id": "i2gt7v_hUf7z"
      },
      "execution_count": null,
      "outputs": []
    }
  ]
}